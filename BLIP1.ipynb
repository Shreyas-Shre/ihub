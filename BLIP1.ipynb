{
  "nbformat": 4,
  "nbformat_minor": 0,
  "metadata": {
    "colab": {
      "provenance": []
    },
    "kernelspec": {
      "name": "python3",
      "display_name": "Python 3"
    },
    "language_info": {
      "name": "python"
    }
  },
  "cells": [
    {
      "cell_type": "code",
      "execution_count": 2,
      "metadata": {
        "colab": {
          "base_uri": "https://localhost:8080/"
        },
        "id": "ih8SX0ZTvNo6",
        "outputId": "ddb0df47-86ce-4e61-ca54-9db4d7f9feac"
      },
      "outputs": [
        {
          "output_type": "stream",
          "name": "stderr",
          "text": [
            "/usr/local/lib/python3.10/dist-packages/transformers/generation/utils.py:1258: UserWarning: Using the model-agnostic default `max_length` (=20) to control the generation length. We recommend setting `max_new_tokens` to control the maximum length of the generation.\n",
            "  warnings.warn(\n"
          ]
        },
        {
          "output_type": "stream",
          "name": "stdout",
          "text": [
            "Caption: the death toll - screenshot\n"
          ]
        }
      ],
      "source": [
        "from transformers import BlipProcessor, BlipForConditionalGeneration\n",
        "from PIL import Image\n",
        "\n",
        "# Load the processor and model\n",
        "processor = BlipProcessor.from_pretrained(\"Salesforce/blip-image-captioning-base\")\n",
        "model = BlipForConditionalGeneration.from_pretrained(\"Salesforce/blip-image-captioning-base\")\n",
        "\n",
        "# Open an image\n",
        "img_path = r\"/content/Screenshot 2024-05-12 204852 (1).jpg\"\n",
        "raw_image = Image.open(img_path)\n",
        "\n",
        "# Prepare the image and generate the caption\n",
        "inputs = processor(raw_image, return_tensors=\"pt\")\n",
        "out = model.generate(**inputs)\n",
        "\n",
        "# Decode and print the result\n",
        "caption = processor.decode(out[0], skip_special_tokens=True)\n",
        "print(\"Caption:\", caption)\n",
        "\n"
      ]
    }
  ]
}